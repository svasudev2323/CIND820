{
 "cells": [
  {
   "cell_type": "code",
   "execution_count": 1,
   "id": "6be20135",
   "metadata": {},
   "outputs": [],
   "source": [
    "import pandas as pd\n",
    "from openpyxl.workbook import Workbook\n",
    "\n",
    "#reading excel file\n",
    "df = pd.read_excel('C:/Users/svasudev/OneDrive - IGMFinancial/Documents/Predictive Analytics/CIND820/Fuel_Dataset.xlsx',\n",
    "                  engine='openpyxl',sheet_name=0,header=0,index_col=False,keep_default_na=True)"
   ]
  },
  {
   "cell_type": "code",
   "execution_count": 2,
   "id": "32a37b64",
   "metadata": {},
   "outputs": [
    {
     "data": {
      "text/html": [
       "<div>\n",
       "<style scoped>\n",
       "    .dataframe tbody tr th:only-of-type {\n",
       "        vertical-align: middle;\n",
       "    }\n",
       "\n",
       "    .dataframe tbody tr th {\n",
       "        vertical-align: top;\n",
       "    }\n",
       "\n",
       "    .dataframe thead th {\n",
       "        text-align: right;\n",
       "    }\n",
       "</style>\n",
       "<table border=\"1\" class=\"dataframe\">\n",
       "  <thead>\n",
       "    <tr style=\"text-align: right;\">\n",
       "      <th></th>\n",
       "      <th>Date</th>\n",
       "      <th>Ottawa</th>\n",
       "      <th>Toronto West/Ouest</th>\n",
       "      <th>Toronto East/Est</th>\n",
       "      <th>Windsor</th>\n",
       "      <th>London</th>\n",
       "      <th>Peterborough</th>\n",
       "      <th>St. Catharine's</th>\n",
       "      <th>Sudbury</th>\n",
       "      <th>Sault Saint Marie</th>\n",
       "      <th>Thunder Bay</th>\n",
       "      <th>North Bay</th>\n",
       "      <th>Timmins</th>\n",
       "      <th>Kenora</th>\n",
       "      <th>Parry Sound</th>\n",
       "      <th>Ontario Average/Moyenne provinciale</th>\n",
       "      <th>Southern Average/Moyenne du sud de l'Ontario</th>\n",
       "      <th>Northern Average/Moyenne du nord de l'Ontario</th>\n",
       "      <th>Fuel Type</th>\n",
       "      <th>Type de carburant</th>\n",
       "    </tr>\n",
       "  </thead>\n",
       "  <tbody>\n",
       "    <tr>\n",
       "      <th>0</th>\n",
       "      <td>1990-01-03</td>\n",
       "      <td>55.9</td>\n",
       "      <td>49.1</td>\n",
       "      <td>48.7</td>\n",
       "      <td>45.2</td>\n",
       "      <td>50.1</td>\n",
       "      <td>0.0</td>\n",
       "      <td>0.0</td>\n",
       "      <td>56.4</td>\n",
       "      <td>54.8</td>\n",
       "      <td>56.6</td>\n",
       "      <td>55.1</td>\n",
       "      <td>58.1</td>\n",
       "      <td>0.0</td>\n",
       "      <td>0.0</td>\n",
       "      <td>50.3</td>\n",
       "      <td>49.5</td>\n",
       "      <td>56.2</td>\n",
       "      <td>Regular Unleaded Gasoline</td>\n",
       "      <td>Essence sans plomb</td>\n",
       "    </tr>\n",
       "    <tr>\n",
       "      <th>1</th>\n",
       "      <td>1990-01-10</td>\n",
       "      <td>55.9</td>\n",
       "      <td>47.7</td>\n",
       "      <td>46.8</td>\n",
       "      <td>49.7</td>\n",
       "      <td>47.6</td>\n",
       "      <td>0.0</td>\n",
       "      <td>0.0</td>\n",
       "      <td>56.4</td>\n",
       "      <td>54.9</td>\n",
       "      <td>56.8</td>\n",
       "      <td>55.0</td>\n",
       "      <td>58.2</td>\n",
       "      <td>0.0</td>\n",
       "      <td>0.0</td>\n",
       "      <td>49.2</td>\n",
       "      <td>48.3</td>\n",
       "      <td>56.2</td>\n",
       "      <td>Regular Unleaded Gasoline</td>\n",
       "      <td>Essence sans plomb</td>\n",
       "    </tr>\n",
       "    <tr>\n",
       "      <th>2</th>\n",
       "      <td>1990-01-17</td>\n",
       "      <td>55.9</td>\n",
       "      <td>53.2</td>\n",
       "      <td>53.2</td>\n",
       "      <td>49.6</td>\n",
       "      <td>53.7</td>\n",
       "      <td>0.0</td>\n",
       "      <td>0.0</td>\n",
       "      <td>55.8</td>\n",
       "      <td>54.9</td>\n",
       "      <td>56.8</td>\n",
       "      <td>54.4</td>\n",
       "      <td>58.2</td>\n",
       "      <td>0.0</td>\n",
       "      <td>0.0</td>\n",
       "      <td>53.6</td>\n",
       "      <td>53.3</td>\n",
       "      <td>56.0</td>\n",
       "      <td>Regular Unleaded Gasoline</td>\n",
       "      <td>Essence sans plomb</td>\n",
       "    </tr>\n",
       "    <tr>\n",
       "      <th>3</th>\n",
       "      <td>1990-01-24</td>\n",
       "      <td>55.9</td>\n",
       "      <td>53.2</td>\n",
       "      <td>53.5</td>\n",
       "      <td>49.0</td>\n",
       "      <td>52.1</td>\n",
       "      <td>0.0</td>\n",
       "      <td>0.0</td>\n",
       "      <td>55.7</td>\n",
       "      <td>54.9</td>\n",
       "      <td>56.8</td>\n",
       "      <td>54.3</td>\n",
       "      <td>58.2</td>\n",
       "      <td>0.0</td>\n",
       "      <td>0.0</td>\n",
       "      <td>53.5</td>\n",
       "      <td>53.2</td>\n",
       "      <td>56.0</td>\n",
       "      <td>Regular Unleaded Gasoline</td>\n",
       "      <td>Essence sans plomb</td>\n",
       "    </tr>\n",
       "    <tr>\n",
       "      <th>4</th>\n",
       "      <td>1990-01-31</td>\n",
       "      <td>55.9</td>\n",
       "      <td>51.9</td>\n",
       "      <td>52.6</td>\n",
       "      <td>48.6</td>\n",
       "      <td>49.1</td>\n",
       "      <td>0.0</td>\n",
       "      <td>0.0</td>\n",
       "      <td>55.6</td>\n",
       "      <td>54.8</td>\n",
       "      <td>56.8</td>\n",
       "      <td>54.2</td>\n",
       "      <td>58.1</td>\n",
       "      <td>0.0</td>\n",
       "      <td>0.0</td>\n",
       "      <td>52.5</td>\n",
       "      <td>52.1</td>\n",
       "      <td>55.9</td>\n",
       "      <td>Regular Unleaded Gasoline</td>\n",
       "      <td>Essence sans plomb</td>\n",
       "    </tr>\n",
       "  </tbody>\n",
       "</table>\n",
       "</div>"
      ],
      "text/plain": [
       "        Date  Ottawa  Toronto West/Ouest  Toronto East/Est  Windsor  London  \\\n",
       "0 1990-01-03    55.9                49.1              48.7     45.2    50.1   \n",
       "1 1990-01-10    55.9                47.7              46.8     49.7    47.6   \n",
       "2 1990-01-17    55.9                53.2              53.2     49.6    53.7   \n",
       "3 1990-01-24    55.9                53.2              53.5     49.0    52.1   \n",
       "4 1990-01-31    55.9                51.9              52.6     48.6    49.1   \n",
       "\n",
       "   Peterborough  St. Catharine's  Sudbury  Sault Saint Marie  Thunder Bay  \\\n",
       "0           0.0              0.0     56.4               54.8         56.6   \n",
       "1           0.0              0.0     56.4               54.9         56.8   \n",
       "2           0.0              0.0     55.8               54.9         56.8   \n",
       "3           0.0              0.0     55.7               54.9         56.8   \n",
       "4           0.0              0.0     55.6               54.8         56.8   \n",
       "\n",
       "   North Bay  Timmins  Kenora  Parry Sound  \\\n",
       "0       55.1     58.1     0.0          0.0   \n",
       "1       55.0     58.2     0.0          0.0   \n",
       "2       54.4     58.2     0.0          0.0   \n",
       "3       54.3     58.2     0.0          0.0   \n",
       "4       54.2     58.1     0.0          0.0   \n",
       "\n",
       "   Ontario Average/Moyenne provinciale  \\\n",
       "0                                 50.3   \n",
       "1                                 49.2   \n",
       "2                                 53.6   \n",
       "3                                 53.5   \n",
       "4                                 52.5   \n",
       "\n",
       "   Southern Average/Moyenne du sud de l'Ontario  \\\n",
       "0                                          49.5   \n",
       "1                                          48.3   \n",
       "2                                          53.3   \n",
       "3                                          53.2   \n",
       "4                                          52.1   \n",
       "\n",
       "   Northern Average/Moyenne du nord de l'Ontario                  Fuel Type  \\\n",
       "0                                           56.2  Regular Unleaded Gasoline   \n",
       "1                                           56.2  Regular Unleaded Gasoline   \n",
       "2                                           56.0  Regular Unleaded Gasoline   \n",
       "3                                           56.0  Regular Unleaded Gasoline   \n",
       "4                                           55.9  Regular Unleaded Gasoline   \n",
       "\n",
       "    Type de carburant  \n",
       "0  Essence sans plomb  \n",
       "1  Essence sans plomb  \n",
       "2  Essence sans plomb  \n",
       "3  Essence sans plomb  \n",
       "4  Essence sans plomb  "
      ]
     },
     "execution_count": 2,
     "metadata": {},
     "output_type": "execute_result"
    }
   ],
   "source": [
    "#Top 5 rows of the Excel file\n",
    "df.head()"
   ]
  },
  {
   "cell_type": "code",
   "execution_count": 3,
   "id": "883528bf",
   "metadata": {},
   "outputs": [
    {
     "name": "stdout",
     "output_type": "stream",
     "text": [
      "<class 'pandas.core.frame.DataFrame'>\n",
      "RangeIndex: 9962 entries, 0 to 9961\n",
      "Data columns (total 20 columns):\n",
      " #   Column                                         Non-Null Count  Dtype         \n",
      "---  ------                                         --------------  -----         \n",
      " 0   Date                                           9962 non-null   datetime64[ns]\n",
      " 1   Ottawa                                         9962 non-null   float64       \n",
      " 2   Toronto West/Ouest                             9962 non-null   float64       \n",
      " 3   Toronto East/Est                               9962 non-null   float64       \n",
      " 4   Windsor                                        9962 non-null   float64       \n",
      " 5   London                                         9962 non-null   float64       \n",
      " 6   Peterborough                                   9962 non-null   float64       \n",
      " 7   St. Catharine's                                9962 non-null   float64       \n",
      " 8   Sudbury                                        9962 non-null   float64       \n",
      " 9   Sault Saint Marie                              9962 non-null   float64       \n",
      " 10  Thunder Bay                                    9962 non-null   float64       \n",
      " 11  North Bay                                      9962 non-null   float64       \n",
      " 12  Timmins                                        9962 non-null   float64       \n",
      " 13  Kenora                                         9962 non-null   float64       \n",
      " 14  Parry Sound                                    9962 non-null   float64       \n",
      " 15  Ontario Average/Moyenne provinciale            9962 non-null   float64       \n",
      " 16  Southern Average/Moyenne du sud de l'Ontario   9962 non-null   float64       \n",
      " 17  Northern Average/Moyenne du nord de l'Ontario  9962 non-null   float64       \n",
      " 18  Fuel Type                                      9962 non-null   object        \n",
      " 19  Type de carburant                              9962 non-null   object        \n",
      "dtypes: datetime64[ns](1), float64(17), object(2)\n",
      "memory usage: 1.5+ MB\n"
     ]
    }
   ],
   "source": [
    "#Datatype and Null Information about the columns in the Excel file\n",
    "df.info()"
   ]
  },
  {
   "cell_type": "code",
   "execution_count": 4,
   "id": "7ede742d",
   "metadata": {},
   "outputs": [],
   "source": [
    "#Creating a new dataframe\n",
    "df2 = pd.DataFrame()"
   ]
  },
  {
   "cell_type": "code",
   "execution_count": 5,
   "id": "18230e84",
   "metadata": {},
   "outputs": [],
   "source": [
    "#Choosing rows from the original dataframe with Fuel Type \"Premium Gasoline\" and pasting it into new dataframe\n",
    "df2 = df.loc[df['Fuel Type']=='Premium Gasoline']"
   ]
  },
  {
   "cell_type": "code",
   "execution_count": 6,
   "id": "64d04806",
   "metadata": {},
   "outputs": [
    {
     "name": "stdout",
     "output_type": "stream",
     "text": [
      "<class 'pandas.core.frame.DataFrame'>\n",
      "Int64Index: 1675 entries, 6612 to 8286\n",
      "Data columns (total 20 columns):\n",
      " #   Column                                         Non-Null Count  Dtype         \n",
      "---  ------                                         --------------  -----         \n",
      " 0   Date                                           1675 non-null   datetime64[ns]\n",
      " 1   Ottawa                                         1675 non-null   float64       \n",
      " 2   Toronto West/Ouest                             1675 non-null   float64       \n",
      " 3   Toronto East/Est                               1675 non-null   float64       \n",
      " 4   Windsor                                        1675 non-null   float64       \n",
      " 5   London                                         1675 non-null   float64       \n",
      " 6   Peterborough                                   1675 non-null   float64       \n",
      " 7   St. Catharine's                                1675 non-null   float64       \n",
      " 8   Sudbury                                        1675 non-null   float64       \n",
      " 9   Sault Saint Marie                              1675 non-null   float64       \n",
      " 10  Thunder Bay                                    1675 non-null   float64       \n",
      " 11  North Bay                                      1675 non-null   float64       \n",
      " 12  Timmins                                        1675 non-null   float64       \n",
      " 13  Kenora                                         1675 non-null   float64       \n",
      " 14  Parry Sound                                    1675 non-null   float64       \n",
      " 15  Ontario Average/Moyenne provinciale            1675 non-null   float64       \n",
      " 16  Southern Average/Moyenne du sud de l'Ontario   1675 non-null   float64       \n",
      " 17  Northern Average/Moyenne du nord de l'Ontario  1675 non-null   float64       \n",
      " 18  Fuel Type                                      1675 non-null   object        \n",
      " 19  Type de carburant                              1675 non-null   object        \n",
      "dtypes: datetime64[ns](1), float64(17), object(2)\n",
      "memory usage: 274.8+ KB\n"
     ]
    }
   ],
   "source": [
    "#Datatype and Null Information about the columns in the new dataframe\n",
    "df2.info()"
   ]
  },
  {
   "cell_type": "code",
   "execution_count": 7,
   "id": "2f487d30",
   "metadata": {},
   "outputs": [
    {
     "data": {
      "text/html": [
       "<div>\n",
       "<style scoped>\n",
       "    .dataframe tbody tr th:only-of-type {\n",
       "        vertical-align: middle;\n",
       "    }\n",
       "\n",
       "    .dataframe tbody tr th {\n",
       "        vertical-align: top;\n",
       "    }\n",
       "\n",
       "    .dataframe thead th {\n",
       "        text-align: right;\n",
       "    }\n",
       "</style>\n",
       "<table border=\"1\" class=\"dataframe\">\n",
       "  <thead>\n",
       "    <tr style=\"text-align: right;\">\n",
       "      <th></th>\n",
       "      <th>Date</th>\n",
       "      <th>Ottawa</th>\n",
       "      <th>Toronto West/Ouest</th>\n",
       "      <th>Toronto East/Est</th>\n",
       "      <th>Windsor</th>\n",
       "      <th>London</th>\n",
       "      <th>Peterborough</th>\n",
       "      <th>St. Catharine's</th>\n",
       "      <th>Sudbury</th>\n",
       "      <th>Sault Saint Marie</th>\n",
       "      <th>Thunder Bay</th>\n",
       "      <th>North Bay</th>\n",
       "      <th>Timmins</th>\n",
       "      <th>Kenora</th>\n",
       "      <th>Parry Sound</th>\n",
       "      <th>Ontario Average/Moyenne provinciale</th>\n",
       "      <th>Southern Average/Moyenne du sud de l'Ontario</th>\n",
       "      <th>Northern Average/Moyenne du nord de l'Ontario</th>\n",
       "      <th>Fuel Type</th>\n",
       "      <th>Type de carburant</th>\n",
       "    </tr>\n",
       "  </thead>\n",
       "  <tbody>\n",
       "    <tr>\n",
       "      <th>6612</th>\n",
       "      <td>1990-01-03</td>\n",
       "      <td>59.5</td>\n",
       "      <td>52.9</td>\n",
       "      <td>52.7</td>\n",
       "      <td>49.2</td>\n",
       "      <td>54.0</td>\n",
       "      <td>0.0</td>\n",
       "      <td>0.0</td>\n",
       "      <td>60.2</td>\n",
       "      <td>58.6</td>\n",
       "      <td>60.4</td>\n",
       "      <td>58.7</td>\n",
       "      <td>128.9</td>\n",
       "      <td>0.0</td>\n",
       "      <td>0.0</td>\n",
       "      <td>54.1</td>\n",
       "      <td>53.4</td>\n",
       "      <td>59.9</td>\n",
       "      <td>Premium Gasoline</td>\n",
       "      <td>Essence super</td>\n",
       "    </tr>\n",
       "    <tr>\n",
       "      <th>6613</th>\n",
       "      <td>1990-01-10</td>\n",
       "      <td>59.6</td>\n",
       "      <td>51.6</td>\n",
       "      <td>50.9</td>\n",
       "      <td>53.7</td>\n",
       "      <td>51.5</td>\n",
       "      <td>0.0</td>\n",
       "      <td>0.0</td>\n",
       "      <td>60.2</td>\n",
       "      <td>58.7</td>\n",
       "      <td>60.5</td>\n",
       "      <td>58.7</td>\n",
       "      <td>62.0</td>\n",
       "      <td>0.0</td>\n",
       "      <td>0.0</td>\n",
       "      <td>53.2</td>\n",
       "      <td>52.3</td>\n",
       "      <td>60.0</td>\n",
       "      <td>Premium Gasoline</td>\n",
       "      <td>Essence super</td>\n",
       "    </tr>\n",
       "    <tr>\n",
       "      <th>6614</th>\n",
       "      <td>1990-01-17</td>\n",
       "      <td>59.7</td>\n",
       "      <td>57.4</td>\n",
       "      <td>57.4</td>\n",
       "      <td>53.6</td>\n",
       "      <td>57.6</td>\n",
       "      <td>0.0</td>\n",
       "      <td>0.0</td>\n",
       "      <td>59.6</td>\n",
       "      <td>58.6</td>\n",
       "      <td>60.6</td>\n",
       "      <td>58.0</td>\n",
       "      <td>62.0</td>\n",
       "      <td>0.0</td>\n",
       "      <td>0.0</td>\n",
       "      <td>57.7</td>\n",
       "      <td>57.4</td>\n",
       "      <td>59.8</td>\n",
       "      <td>Premium Gasoline</td>\n",
       "      <td>Essence super</td>\n",
       "    </tr>\n",
       "    <tr>\n",
       "      <th>6615</th>\n",
       "      <td>1990-01-24</td>\n",
       "      <td>59.8</td>\n",
       "      <td>57.1</td>\n",
       "      <td>57.5</td>\n",
       "      <td>53.1</td>\n",
       "      <td>56.0</td>\n",
       "      <td>0.0</td>\n",
       "      <td>0.0</td>\n",
       "      <td>59.5</td>\n",
       "      <td>58.6</td>\n",
       "      <td>60.5</td>\n",
       "      <td>57.9</td>\n",
       "      <td>62.0</td>\n",
       "      <td>0.0</td>\n",
       "      <td>0.0</td>\n",
       "      <td>57.5</td>\n",
       "      <td>57.2</td>\n",
       "      <td>59.7</td>\n",
       "      <td>Premium Gasoline</td>\n",
       "      <td>Essence super</td>\n",
       "    </tr>\n",
       "    <tr>\n",
       "      <th>6616</th>\n",
       "      <td>1990-01-31</td>\n",
       "      <td>59.8</td>\n",
       "      <td>55.9</td>\n",
       "      <td>56.6</td>\n",
       "      <td>52.6</td>\n",
       "      <td>53.1</td>\n",
       "      <td>0.0</td>\n",
       "      <td>0.0</td>\n",
       "      <td>59.5</td>\n",
       "      <td>58.6</td>\n",
       "      <td>60.6</td>\n",
       "      <td>57.8</td>\n",
       "      <td>62.0</td>\n",
       "      <td>0.0</td>\n",
       "      <td>0.0</td>\n",
       "      <td>56.5</td>\n",
       "      <td>56.1</td>\n",
       "      <td>59.7</td>\n",
       "      <td>Premium Gasoline</td>\n",
       "      <td>Essence super</td>\n",
       "    </tr>\n",
       "  </tbody>\n",
       "</table>\n",
       "</div>"
      ],
      "text/plain": [
       "           Date  Ottawa  Toronto West/Ouest  Toronto East/Est  Windsor  \\\n",
       "6612 1990-01-03    59.5                52.9              52.7     49.2   \n",
       "6613 1990-01-10    59.6                51.6              50.9     53.7   \n",
       "6614 1990-01-17    59.7                57.4              57.4     53.6   \n",
       "6615 1990-01-24    59.8                57.1              57.5     53.1   \n",
       "6616 1990-01-31    59.8                55.9              56.6     52.6   \n",
       "\n",
       "      London  Peterborough  St. Catharine's  Sudbury  Sault Saint Marie  \\\n",
       "6612    54.0           0.0              0.0     60.2               58.6   \n",
       "6613    51.5           0.0              0.0     60.2               58.7   \n",
       "6614    57.6           0.0              0.0     59.6               58.6   \n",
       "6615    56.0           0.0              0.0     59.5               58.6   \n",
       "6616    53.1           0.0              0.0     59.5               58.6   \n",
       "\n",
       "      Thunder Bay  North Bay  Timmins  Kenora  Parry Sound  \\\n",
       "6612         60.4       58.7    128.9     0.0          0.0   \n",
       "6613         60.5       58.7     62.0     0.0          0.0   \n",
       "6614         60.6       58.0     62.0     0.0          0.0   \n",
       "6615         60.5       57.9     62.0     0.0          0.0   \n",
       "6616         60.6       57.8     62.0     0.0          0.0   \n",
       "\n",
       "      Ontario Average/Moyenne provinciale  \\\n",
       "6612                                 54.1   \n",
       "6613                                 53.2   \n",
       "6614                                 57.7   \n",
       "6615                                 57.5   \n",
       "6616                                 56.5   \n",
       "\n",
       "      Southern Average/Moyenne du sud de l'Ontario  \\\n",
       "6612                                          53.4   \n",
       "6613                                          52.3   \n",
       "6614                                          57.4   \n",
       "6615                                          57.2   \n",
       "6616                                          56.1   \n",
       "\n",
       "      Northern Average/Moyenne du nord de l'Ontario         Fuel Type  \\\n",
       "6612                                           59.9  Premium Gasoline   \n",
       "6613                                           60.0  Premium Gasoline   \n",
       "6614                                           59.8  Premium Gasoline   \n",
       "6615                                           59.7  Premium Gasoline   \n",
       "6616                                           59.7  Premium Gasoline   \n",
       "\n",
       "     Type de carburant  \n",
       "6612     Essence super  \n",
       "6613     Essence super  \n",
       "6614     Essence super  \n",
       "6615     Essence super  \n",
       "6616     Essence super  "
      ]
     },
     "execution_count": 7,
     "metadata": {},
     "output_type": "execute_result"
    }
   ],
   "source": [
    "df2.head()"
   ]
  },
  {
   "cell_type": "code",
   "execution_count": 8,
   "id": "7351be0f",
   "metadata": {},
   "outputs": [],
   "source": [
    "#Creating a new dataframe\n",
    "df3 = pd.DataFrame()"
   ]
  },
  {
   "cell_type": "code",
   "execution_count": 9,
   "id": "8045a386",
   "metadata": {},
   "outputs": [],
   "source": [
    "#Analyzing 'Premium Gasoline' price for Toronto East/Est  Region only and pasting it into new dataframe\n",
    "df3.insert(0,\"Date\",df2['Date'],True)\n",
    "df3.insert(1,\"Toronto East/Est\",df2['Toronto East/Est'],True)"
   ]
  },
  {
   "cell_type": "code",
   "execution_count": 10,
   "id": "570d4405",
   "metadata": {},
   "outputs": [
    {
     "data": {
      "text/html": [
       "<div>\n",
       "<style scoped>\n",
       "    .dataframe tbody tr th:only-of-type {\n",
       "        vertical-align: middle;\n",
       "    }\n",
       "\n",
       "    .dataframe tbody tr th {\n",
       "        vertical-align: top;\n",
       "    }\n",
       "\n",
       "    .dataframe thead th {\n",
       "        text-align: right;\n",
       "    }\n",
       "</style>\n",
       "<table border=\"1\" class=\"dataframe\">\n",
       "  <thead>\n",
       "    <tr style=\"text-align: right;\">\n",
       "      <th></th>\n",
       "      <th>Date</th>\n",
       "      <th>Toronto East/Est</th>\n",
       "    </tr>\n",
       "  </thead>\n",
       "  <tbody>\n",
       "    <tr>\n",
       "      <th>6612</th>\n",
       "      <td>1990-01-03</td>\n",
       "      <td>52.7</td>\n",
       "    </tr>\n",
       "    <tr>\n",
       "      <th>6613</th>\n",
       "      <td>1990-01-10</td>\n",
       "      <td>50.9</td>\n",
       "    </tr>\n",
       "    <tr>\n",
       "      <th>6614</th>\n",
       "      <td>1990-01-17</td>\n",
       "      <td>57.4</td>\n",
       "    </tr>\n",
       "    <tr>\n",
       "      <th>6615</th>\n",
       "      <td>1990-01-24</td>\n",
       "      <td>57.5</td>\n",
       "    </tr>\n",
       "    <tr>\n",
       "      <th>6616</th>\n",
       "      <td>1990-01-31</td>\n",
       "      <td>56.6</td>\n",
       "    </tr>\n",
       "  </tbody>\n",
       "</table>\n",
       "</div>"
      ],
      "text/plain": [
       "           Date  Toronto East/Est\n",
       "6612 1990-01-03              52.7\n",
       "6613 1990-01-10              50.9\n",
       "6614 1990-01-17              57.4\n",
       "6615 1990-01-24              57.5\n",
       "6616 1990-01-31              56.6"
      ]
     },
     "execution_count": 10,
     "metadata": {},
     "output_type": "execute_result"
    }
   ],
   "source": [
    "df3.head()"
   ]
  },
  {
   "cell_type": "code",
   "execution_count": 11,
   "id": "0b210a1b",
   "metadata": {},
   "outputs": [],
   "source": [
    "#Date column only had weekly values. Sometimes the week started on Wednesday and sometimes it started on Monday. Due to \n",
    "#this inconistency, converting the date column into daily values and assigning the previous weekly value to the\n",
    "#daily values.\n",
    "df3.set_index('Date', inplace=True)\n",
    "df3 = df3.resample('D').ffill().reset_index()"
   ]
  },
  {
   "cell_type": "code",
   "execution_count": 12,
   "id": "eedb245a",
   "metadata": {},
   "outputs": [
    {
     "data": {
      "text/html": [
       "<div>\n",
       "<style scoped>\n",
       "    .dataframe tbody tr th:only-of-type {\n",
       "        vertical-align: middle;\n",
       "    }\n",
       "\n",
       "    .dataframe tbody tr th {\n",
       "        vertical-align: top;\n",
       "    }\n",
       "\n",
       "    .dataframe thead th {\n",
       "        text-align: right;\n",
       "    }\n",
       "</style>\n",
       "<table border=\"1\" class=\"dataframe\">\n",
       "  <thead>\n",
       "    <tr style=\"text-align: right;\">\n",
       "      <th></th>\n",
       "      <th>Date</th>\n",
       "      <th>Toronto East/Est</th>\n",
       "    </tr>\n",
       "  </thead>\n",
       "  <tbody>\n",
       "    <tr>\n",
       "      <th>11707</th>\n",
       "      <td>2022-01-22</td>\n",
       "      <td>170.1</td>\n",
       "    </tr>\n",
       "    <tr>\n",
       "      <th>11708</th>\n",
       "      <td>2022-01-23</td>\n",
       "      <td>170.1</td>\n",
       "    </tr>\n",
       "    <tr>\n",
       "      <th>11709</th>\n",
       "      <td>2022-01-24</td>\n",
       "      <td>171.3</td>\n",
       "    </tr>\n",
       "    <tr>\n",
       "      <th>11710</th>\n",
       "      <td>2022-01-25</td>\n",
       "      <td>171.3</td>\n",
       "    </tr>\n",
       "    <tr>\n",
       "      <th>11711</th>\n",
       "      <td>2022-01-26</td>\n",
       "      <td>171.3</td>\n",
       "    </tr>\n",
       "    <tr>\n",
       "      <th>11712</th>\n",
       "      <td>2022-01-27</td>\n",
       "      <td>171.3</td>\n",
       "    </tr>\n",
       "    <tr>\n",
       "      <th>11713</th>\n",
       "      <td>2022-01-28</td>\n",
       "      <td>171.3</td>\n",
       "    </tr>\n",
       "    <tr>\n",
       "      <th>11714</th>\n",
       "      <td>2022-01-29</td>\n",
       "      <td>171.3</td>\n",
       "    </tr>\n",
       "    <tr>\n",
       "      <th>11715</th>\n",
       "      <td>2022-01-30</td>\n",
       "      <td>171.3</td>\n",
       "    </tr>\n",
       "    <tr>\n",
       "      <th>11716</th>\n",
       "      <td>2022-01-31</td>\n",
       "      <td>176.8</td>\n",
       "    </tr>\n",
       "  </tbody>\n",
       "</table>\n",
       "</div>"
      ],
      "text/plain": [
       "            Date  Toronto East/Est\n",
       "11707 2022-01-22             170.1\n",
       "11708 2022-01-23             170.1\n",
       "11709 2022-01-24             171.3\n",
       "11710 2022-01-25             171.3\n",
       "11711 2022-01-26             171.3\n",
       "11712 2022-01-27             171.3\n",
       "11713 2022-01-28             171.3\n",
       "11714 2022-01-29             171.3\n",
       "11715 2022-01-30             171.3\n",
       "11716 2022-01-31             176.8"
      ]
     },
     "execution_count": 12,
     "metadata": {},
     "output_type": "execute_result"
    }
   ],
   "source": [
    "#Last 10 values from the dataset\n",
    "df3.tail(10)"
   ]
  },
  {
   "cell_type": "code",
   "execution_count": 13,
   "id": "636d5bfd",
   "metadata": {},
   "outputs": [
    {
     "data": {
      "text/plain": [
       "False"
      ]
     },
     "execution_count": 13,
     "metadata": {},
     "output_type": "execute_result"
    }
   ],
   "source": [
    "#Checking for null values\n",
    "df3.isnull().values.any()"
   ]
  },
  {
   "cell_type": "code",
   "execution_count": 14,
   "id": "dd615497",
   "metadata": {},
   "outputs": [],
   "source": [
    "#Splitting the \"Date\" column into year, month and week to explore trends\n",
    "df3['Year']=df3['Date'].dt.year\n",
    "df3['Month']=df3['Date'].dt.month\n",
    "df3['Week']=df3['Date'].dt.isocalendar().week"
   ]
  },
  {
   "cell_type": "code",
   "execution_count": 15,
   "id": "cfd42c45",
   "metadata": {},
   "outputs": [
    {
     "data": {
      "text/html": [
       "<div>\n",
       "<style scoped>\n",
       "    .dataframe tbody tr th:only-of-type {\n",
       "        vertical-align: middle;\n",
       "    }\n",
       "\n",
       "    .dataframe tbody tr th {\n",
       "        vertical-align: top;\n",
       "    }\n",
       "\n",
       "    .dataframe thead th {\n",
       "        text-align: right;\n",
       "    }\n",
       "</style>\n",
       "<table border=\"1\" class=\"dataframe\">\n",
       "  <thead>\n",
       "    <tr style=\"text-align: right;\">\n",
       "      <th></th>\n",
       "      <th>Date</th>\n",
       "      <th>Toronto East/Est</th>\n",
       "      <th>Year</th>\n",
       "      <th>Month</th>\n",
       "      <th>Week</th>\n",
       "    </tr>\n",
       "  </thead>\n",
       "  <tbody>\n",
       "    <tr>\n",
       "      <th>0</th>\n",
       "      <td>1990-01-03</td>\n",
       "      <td>52.7</td>\n",
       "      <td>1990</td>\n",
       "      <td>1</td>\n",
       "      <td>1</td>\n",
       "    </tr>\n",
       "    <tr>\n",
       "      <th>1</th>\n",
       "      <td>1990-01-04</td>\n",
       "      <td>52.7</td>\n",
       "      <td>1990</td>\n",
       "      <td>1</td>\n",
       "      <td>1</td>\n",
       "    </tr>\n",
       "    <tr>\n",
       "      <th>2</th>\n",
       "      <td>1990-01-05</td>\n",
       "      <td>52.7</td>\n",
       "      <td>1990</td>\n",
       "      <td>1</td>\n",
       "      <td>1</td>\n",
       "    </tr>\n",
       "    <tr>\n",
       "      <th>3</th>\n",
       "      <td>1990-01-06</td>\n",
       "      <td>52.7</td>\n",
       "      <td>1990</td>\n",
       "      <td>1</td>\n",
       "      <td>1</td>\n",
       "    </tr>\n",
       "    <tr>\n",
       "      <th>4</th>\n",
       "      <td>1990-01-07</td>\n",
       "      <td>52.7</td>\n",
       "      <td>1990</td>\n",
       "      <td>1</td>\n",
       "      <td>1</td>\n",
       "    </tr>\n",
       "    <tr>\n",
       "      <th>5</th>\n",
       "      <td>1990-01-08</td>\n",
       "      <td>52.7</td>\n",
       "      <td>1990</td>\n",
       "      <td>1</td>\n",
       "      <td>2</td>\n",
       "    </tr>\n",
       "    <tr>\n",
       "      <th>6</th>\n",
       "      <td>1990-01-09</td>\n",
       "      <td>52.7</td>\n",
       "      <td>1990</td>\n",
       "      <td>1</td>\n",
       "      <td>2</td>\n",
       "    </tr>\n",
       "    <tr>\n",
       "      <th>7</th>\n",
       "      <td>1990-01-10</td>\n",
       "      <td>50.9</td>\n",
       "      <td>1990</td>\n",
       "      <td>1</td>\n",
       "      <td>2</td>\n",
       "    </tr>\n",
       "    <tr>\n",
       "      <th>8</th>\n",
       "      <td>1990-01-11</td>\n",
       "      <td>50.9</td>\n",
       "      <td>1990</td>\n",
       "      <td>1</td>\n",
       "      <td>2</td>\n",
       "    </tr>\n",
       "    <tr>\n",
       "      <th>9</th>\n",
       "      <td>1990-01-12</td>\n",
       "      <td>50.9</td>\n",
       "      <td>1990</td>\n",
       "      <td>1</td>\n",
       "      <td>2</td>\n",
       "    </tr>\n",
       "  </tbody>\n",
       "</table>\n",
       "</div>"
      ],
      "text/plain": [
       "        Date  Toronto East/Est  Year  Month  Week\n",
       "0 1990-01-03              52.7  1990      1     1\n",
       "1 1990-01-04              52.7  1990      1     1\n",
       "2 1990-01-05              52.7  1990      1     1\n",
       "3 1990-01-06              52.7  1990      1     1\n",
       "4 1990-01-07              52.7  1990      1     1\n",
       "5 1990-01-08              52.7  1990      1     2\n",
       "6 1990-01-09              52.7  1990      1     2\n",
       "7 1990-01-10              50.9  1990      1     2\n",
       "8 1990-01-11              50.9  1990      1     2\n",
       "9 1990-01-12              50.9  1990      1     2"
      ]
     },
     "execution_count": 15,
     "metadata": {},
     "output_type": "execute_result"
    }
   ],
   "source": [
    "df3.head(10)"
   ]
  },
  {
   "cell_type": "code",
   "execution_count": 16,
   "id": "c2c6b5c6",
   "metadata": {},
   "outputs": [],
   "source": [
    "#Splitting the dataset in Train and Test\n",
    "#Train from Year 1990 to Year 2019\n",
    "#Test from Year 2020\n",
    "\n",
    "train = df3[(df3['Date'] > '1990-01-01') & (df3['Date'] <= '2019-12-31')]\n",
    "test = df3[df3['Date'] >= '2020-01-01']"
   ]
  },
  {
   "cell_type": "markdown",
   "id": "3a34537f",
   "metadata": {},
   "source": [
    "<h4>Yearly Price Visualization on Train and Test Dataset"
   ]
  },
  {
   "cell_type": "code",
   "execution_count": 17,
   "id": "b62c70cd",
   "metadata": {},
   "outputs": [
    {
     "data": {
      "image/png": "[encoded data removed]",
      "text/plain": [
       "<Figure size 1200x320 with 1 Axes>"
      ]
     },
     "metadata": {
      "needs_background": "light"
     },
     "output_type": "display_data"
    }
   ],
   "source": [
    "import matplotlib.pyplot as plt\n",
    "from matplotlib.pyplot import figure\n",
    "\n",
    "yearly_train_Price = train.groupby(['Year'])['Toronto East/Est'].mean()\n",
    "yearly_test_Price = test.groupby(['Year'])['Toronto East/Est'].mean()\n",
    "\n",
    "figure(figsize=(15, 4), dpi=80)\n",
    "plt.plot(yearly_train_Price, label='Train',c='blue')\n",
    "plt.plot(yearly_test_Price, label='Test',c='orange')\n",
    "plt.legend(loc='best')\n",
    "plt.suptitle('Premium Gasoline Prices for Toronto East/Est', fontsize=20)\n",
    "plt.xlabel('Year')\n",
    "plt.ylabel('Price (cents per litre)')\n",
    "plt.show()"
   ]
  },
  {
   "cell_type": "markdown",
   "id": "7fabed44",
   "metadata": {},
   "source": [
    "<h4>DataPrep for Time Series"
   ]
  },
  {
   "cell_type": "code",
   "execution_count": 18,
   "id": "3360fc03",
   "metadata": {},
   "outputs": [],
   "source": [
    "train.index = pd.DatetimeIndex(train['Date'])\n",
    "#Changing the frequency of the index to Daily\n",
    "train.index = train.asfreq('d').index\n",
    "\n",
    "test.index = pd.DatetimeIndex(test['Date'])\n",
    "#Changing the frequency of the index to Daily\n",
    "test.index = test.asfreq('d').index"
   ]
  },
  {
   "cell_type": "markdown",
   "id": "d754c9f6",
   "metadata": {},
   "source": [
    "<h4>Train and Time Series Dataset"
   ]
  },
  {
   "cell_type": "code",
   "execution_count": 19,
   "id": "38ad869a",
   "metadata": {},
   "outputs": [
    {
     "name": "stdout",
     "output_type": "stream",
     "text": [
      "            Toronto East/Est Gas Price Train\n",
      "Date                                        \n",
      "2019-12-27                             139.3\n",
      "2019-12-28                             139.3\n",
      "2019-12-29                             139.3\n",
      "2019-12-30                             140.2\n",
      "2019-12-31                             140.2\n",
      "            Toronto East/Est Gas Price Test\n",
      "Date                                       \n",
      "2022-01-27                            171.3\n",
      "2022-01-28                            171.3\n",
      "2022-01-29                            171.3\n",
      "2022-01-30                            171.3\n",
      "2022-01-31                            176.8\n"
     ]
    }
   ],
   "source": [
    "train_time_series = pd.DataFrame()\n",
    "train_time_series.index = train.index\n",
    "train_time_series.insert(0,\"Toronto East/Est Gas Price Train\",train['Toronto East/Est'],True)\n",
    "\n",
    "test_time_series = pd.DataFrame()\n",
    "test_time_series.index = test.index\n",
    "test_time_series.insert(0,\"Toronto East/Est Gas Price Test\",test['Toronto East/Est'],True)\n",
    "\n",
    "\n",
    "print(train_time_series.tail())\n",
    "print(test_time_series.tail())"
   ]
  },
  {
   "cell_type": "markdown",
   "id": "6a9989ae",
   "metadata": {},
   "source": [
    "<h4>ARIMA Model\n",
    "<h5>To predict time series with ARIMA, we need to set the values of three parameters (p,d,q):\n",
    "<h5>p: The order of the auto-regressive (AR) model (i.e., the number of lag observations)\n",
    "<h5>d: The degree of differencing.\n",
    "<h5>q: The order of the moving average (MA) model."
   ]
  },
  {
   "cell_type": "markdown",
   "id": "c01489ba",
   "metadata": {},
   "source": [
    "<h4>Checking if data is stationary - We can see that it is not based on the P-value - Augmented Dickey Fuller Test\n"
   ]
  },
  {
   "cell_type": "code",
   "execution_count": 20,
   "id": "0dbb0f7b",
   "metadata": {},
   "outputs": [
    {
     "name": "stdout",
     "output_type": "stream",
     "text": [
      "ADF Statistic:  -1.6812201573051844\n",
      "p-value:  0.4408134631812959\n",
      "Critical Values {'1%': -3.4309487036285113, '5%': -2.8618045938569296, '10%': -2.5669108381800188}\n"
     ]
    }
   ],
   "source": [
    "from statsmodels.tsa.stattools import adfuller\n",
    "results = adfuller(train_time_series['Toronto East/Est Gas Price Train'])\n",
    "print('ADF Statistic: ',results[0])\n",
    "print('p-value: ',results[1])\n",
    "print('Critical Values', results[4])"
   ]
  },
  {
   "cell_type": "markdown",
   "id": "4c7f98ab",
   "metadata": {},
   "source": [
    "<h4>Taking First difference - P value is < 0.05. We can stop at the First Difference; d = 1"
   ]
  },
  {
   "cell_type": "code",
   "execution_count": 21,
   "id": "63da28de",
   "metadata": {},
   "outputs": [
    {
     "name": "stdout",
     "output_type": "stream",
     "text": [
      "ADF Statistic:  -17.95941317417628\n",
      "p-value:  2.8203794293235352e-30\n",
      "Critical Values {'1%': -3.4309487036285113, '5%': -2.8618045938569296, '10%': -2.5669108381800188}\n"
     ]
    }
   ],
   "source": [
    "train_time_series_stationary1 = train_time_series.diff().dropna()\n",
    "results1 = adfuller(train_time_series_stationary1['Toronto East/Est Gas Price Train'])\n",
    "print('ADF Statistic: ',results1[0])\n",
    "print('p-value: ',results1[1])\n",
    "print('Critical Values', results1[4])"
   ]
  },
  {
   "cell_type": "markdown",
   "id": "daa5c280",
   "metadata": {},
   "source": [
    "<h4>The Order of Autoregressive Term p; p = 0"
   ]
  },
  {
   "cell_type": "code",
   "execution_count": 22,
   "id": "8adc8d69",
   "metadata": {},
   "outputs": [
    {
     "data": {
      "image/png": "[encoded data removed]",
      "text/plain": [
       "<Figure size 1440x360 with 1 Axes>"
      ]
     },
     "metadata": {
      "needs_background": "light"
     },
     "output_type": "display_data"
    }
   ],
   "source": [
    "plt.rcParams.update({'figure.figsize':(12,3), 'figure.dpi':120})\n",
    "from statsmodels.graphics.tsaplots import plot_pacf\n",
    "plot_pacf(train_time_series_stationary1, lags=10,  title=\"Partial Autocorrelation 1st Order Differencing\")\n",
    "plt.xlabel('Lag')\n",
    "plt.ylabel('PACF')\n",
    "plt.show()"
   ]
  },
  {
   "cell_type": "markdown",
   "id": "2a363aa8",
   "metadata": {},
   "source": [
    "<h4>The order of the Moving Average term q; q = 0"
   ]
  },
  {
   "cell_type": "code",
   "execution_count": 23,
   "id": "5da4d0d9",
   "metadata": {},
   "outputs": [
    {
     "data": {
      "image/png": "[encoded data removed]",
      "text/plain": [
       "<Figure size 1440x360 with 1 Axes>"
      ]
     },
     "metadata": {
      "needs_background": "light"
     },
     "output_type": "display_data"
    }
   ],
   "source": [
    "plt.rcParams.update({'figure.figsize':(12,3), 'figure.dpi':120})\n",
    "from statsmodels.graphics.tsaplots import plot_acf\n",
    "plot_acf(train_time_series_stationary1, lags=20,  title=\"Autocorrelation 1st Order Differencing\")\n",
    "plt.xlabel('Lag')\n",
    "plt.ylabel('ACF')\n",
    "plt.show()"
   ]
  },
  {
   "cell_type": "markdown",
   "id": "b21ac19d",
   "metadata": {},
   "source": [
    "<h4> Check the above p,d,q parameters with Auto Arima - Best Model ARIMA (0,1,0)"
   ]
  },
  {
   "cell_type": "code",
   "execution_count": 24,
   "id": "959251c7",
   "metadata": {},
   "outputs": [
    {
     "name": "stdout",
     "output_type": "stream",
     "text": [
      "Performing stepwise search to minimize aic\n",
      " ARIMA(2,1,2)(0,0,0)[0] intercept   : AIC=34060.204, Time=1.59 sec\n",
      " ARIMA(0,1,0)(0,0,0)[0] intercept   : AIC=34052.204, Time=0.29 sec\n",
      " ARIMA(1,1,0)(0,0,0)[0] intercept   : AIC=34054.204, Time=0.70 sec\n",
      " ARIMA(0,1,1)(0,0,0)[0] intercept   : AIC=34054.204, Time=0.88 sec\n",
      " ARIMA(0,1,0)(0,0,0)[0]             : AIC=34050.737, Time=0.24 sec\n",
      " ARIMA(1,1,1)(0,0,0)[0] intercept   : AIC=34056.204, Time=1.18 sec\n",
      "\n",
      "Best model:  ARIMA(0,1,0)(0,0,0)[0]          \n",
      "Total fit time: 5.010 seconds\n"
     ]
    }
   ],
   "source": [
    "import pmdarima as pm\n",
    "from pmdarima.model_selection import train_test_split\n",
    "import numpy as np\n",
    "\n",
    "model1 = pm.auto_arima(train_time_series, trace=True, error_action='ignore', suppress_warnings=True)\n",
    "model1.fit(train_time_series)\n",
    "\n",
    "forecast1 = model1.predict(n_periods=len(test_time_series))\n",
    "forecast1 = pd.DataFrame(forecast1,index = test_time_series.index,columns=['Prediction'])"
   ]
  },
  {
   "cell_type": "markdown",
   "id": "0db03836",
   "metadata": {},
   "source": [
    "<h4> Model Summary"
   ]
  },
  {
   "cell_type": "code",
   "execution_count": 25,
   "id": "0929b892",
   "metadata": {},
   "outputs": [
    {
     "name": "stdout",
     "output_type": "stream",
     "text": [
      "                                      SARIMAX Results                                       \n",
      "============================================================================================\n",
      "Dep. Variable:     Toronto East/Est Gas Price Train   No. Observations:                10955\n",
      "Model:                               ARIMA(0, 1, 0)   Log Likelihood              -17024.369\n",
      "Date:                              Sat, 05 Mar 2022   AIC                          34050.737\n",
      "Time:                                      13:17:08   BIC                          34058.039\n",
      "Sample:                                  01-03-1990   HQIC                         34053.198\n",
      "                                       - 12-31-2019                                         \n",
      "Covariance Type:                                opg                                         \n",
      "==============================================================================\n",
      "                 coef    std err          z      P>|z|      [0.025      0.975]\n",
      "------------------------------------------------------------------------------\n",
      "sigma2         1.3106      0.003    482.660      0.000       1.305       1.316\n",
      "===================================================================================\n",
      "Ljung-Box (L1) (Q):                   0.00   Jarque-Bera (JB):           3150532.25\n",
      "Prob(Q):                              1.00   Prob(JB):                         0.00\n",
      "Heteroskedasticity (H):               1.22   Skew:                             1.13\n",
      "Prob(H) (two-sided):                  0.00   Kurtosis:                        86.05\n",
      "===================================================================================\n",
      "\n",
      "Warnings:\n",
      "[1] Covariance matrix calculated using the outer product of gradients (complex-step).\n"
     ]
    }
   ],
   "source": [
    "import statsmodels.api as sm\n",
    "model = sm.tsa.arima.ARIMA(train_time_series, order=(0,1,0))\n",
    "model_result = model.fit()\n",
    "print(model_result.summary())"
   ]
  },
  {
   "cell_type": "markdown",
   "id": "b8eee320",
   "metadata": {},
   "source": [
    "<h4>Model Prediction"
   ]
  },
  {
   "cell_type": "code",
   "execution_count": 26,
   "id": "a20175fe",
   "metadata": {},
   "outputs": [],
   "source": [
    "import warnings\n",
    "warnings.filterwarnings('ignore')\n",
    "ARIMA_Predict = model_result.predict(start='1/1/2020', end='1/31/2022')\n",
    "ARIMA_Predict_df = pd.DataFrame(ARIMA_Predict)"
   ]
  },
  {
   "cell_type": "code",
   "execution_count": 27,
   "id": "c6ca754a",
   "metadata": {},
   "outputs": [
    {
     "data": {
      "text/html": [
       "<div>\n",
       "<style scoped>\n",
       "    .dataframe tbody tr th:only-of-type {\n",
       "        vertical-align: middle;\n",
       "    }\n",
       "\n",
       "    .dataframe tbody tr th {\n",
       "        vertical-align: top;\n",
       "    }\n",
       "\n",
       "    .dataframe thead th {\n",
       "        text-align: right;\n",
       "    }\n",
       "</style>\n",
       "<table border=\"1\" class=\"dataframe\">\n",
       "  <thead>\n",
       "    <tr style=\"text-align: right;\">\n",
       "      <th></th>\n",
       "      <th>predicted_mean</th>\n",
       "    </tr>\n",
       "  </thead>\n",
       "  <tbody>\n",
       "    <tr>\n",
       "      <th>2022-01-27</th>\n",
       "      <td>140.2</td>\n",
       "    </tr>\n",
       "    <tr>\n",
       "      <th>2022-01-28</th>\n",
       "      <td>140.2</td>\n",
       "    </tr>\n",
       "    <tr>\n",
       "      <th>2022-01-29</th>\n",
       "      <td>140.2</td>\n",
       "    </tr>\n",
       "    <tr>\n",
       "      <th>2022-01-30</th>\n",
       "      <td>140.2</td>\n",
       "    </tr>\n",
       "    <tr>\n",
       "      <th>2022-01-31</th>\n",
       "      <td>140.2</td>\n",
       "    </tr>\n",
       "  </tbody>\n",
       "</table>\n",
       "</div>"
      ],
      "text/plain": [
       "            predicted_mean\n",
       "2022-01-27           140.2\n",
       "2022-01-28           140.2\n",
       "2022-01-29           140.2\n",
       "2022-01-30           140.2\n",
       "2022-01-31           140.2"
      ]
     },
     "execution_count": 27,
     "metadata": {},
     "output_type": "execute_result"
    }
   ],
   "source": [
    "ARIMA_Predict_df.tail()"
   ]
  },
  {
   "cell_type": "code",
   "execution_count": 28,
   "id": "347407c8",
   "metadata": {},
   "outputs": [
    {
     "data": {
      "image/png": "[encoded data removed]",
      "text/plain": [
       "<Figure size 1200x320 with 1 Axes>"
      ]
     },
     "metadata": {
      "needs_background": "light"
     },
     "output_type": "display_data"
    }
   ],
   "source": [
    "figure(figsize=(15, 4), dpi=80)\n",
    "plt.plot(ARIMA_Predict_df, label='Predicted Prices',c='blue')\n",
    "plt.plot(test_time_series, label='Original Prices',c='orange')\n",
    "plt.legend(loc='best')\n",
    "plt.suptitle('ARIMA Model Premium Gasoline Prices Forecast Toronto East/Est', fontsize=20)\n",
    "plt.xlabel('Year')\n",
    "plt.ylabel('Price (cents per litre)')\n",
    "plt.show()"
   ]
  },
  {
   "cell_type": "markdown",
   "id": "65d4ca37",
   "metadata": {},
   "source": [
    "<h4>Evaluation of the Model"
   ]
  },
  {
   "cell_type": "markdown",
   "id": "4e141256",
   "metadata": {},
   "source": [
    "<h4>Mean Absolute Error (MAE) ARIMA"
   ]
  },
  {
   "cell_type": "code",
   "execution_count": 29,
   "id": "fc91b6d1",
   "metadata": {},
   "outputs": [
    {
     "name": "stdout",
     "output_type": "stream",
     "text": [
      "Mean Absolute Error ARIMA = 17.32\n"
     ]
    }
   ],
   "source": [
    "from sklearn.metrics import mean_absolute_error\n",
    "maeARIMA=mean_absolute_error(test_time_series['Toronto East/Est Gas Price Test'],ARIMA_Predict)\n",
    "print('Mean Absolute Error ARIMA = {}'.format(round(maeARIMA, 2)))"
   ]
  },
  {
   "cell_type": "markdown",
   "id": "7d7b574a",
   "metadata": {},
   "source": [
    "<h4> Mean squared error (MSE) ARIMA"
   ]
  },
  {
   "cell_type": "code",
   "execution_count": 30,
   "id": "6f69daa3",
   "metadata": {},
   "outputs": [
    {
     "name": "stdout",
     "output_type": "stream",
     "text": [
      "The Mean Squared Error ARIMA = 390.92\n"
     ]
    }
   ],
   "source": [
    "from sklearn.metrics import mean_squared_error\n",
    "mseARIMA=mean_squared_error(test_time_series['Toronto East/Est Gas Price Test'],ARIMA_Predict)\n",
    "print('The Mean Squared Error ARIMA = {}'.format(round(mseARIMA, 2)))"
   ]
  },
  {
   "cell_type": "markdown",
   "id": "dacb8d17",
   "metadata": {},
   "source": [
    "<h4>Root mean squared error (RMSE) ARIMA"
   ]
  },
  {
   "cell_type": "code",
   "execution_count": 31,
   "id": "321c2567",
   "metadata": {},
   "outputs": [
    {
     "name": "stdout",
     "output_type": "stream",
     "text": [
      "The Root Mean Squared Error ARIMA = 19.77\n"
     ]
    }
   ],
   "source": [
    "from numpy import sqrt \n",
    "rmseARIMA = sqrt(mseARIMA)\n",
    "print('The Root Mean Squared Error ARIMA = {}'.format(round(rmseARIMA, 2)))"
   ]
  },
  {
   "cell_type": "markdown",
   "id": "43d28a58",
   "metadata": {},
   "source": [
    "<h4>Prophet Model"
   ]
  },
  {
   "cell_type": "code",
   "execution_count": 32,
   "id": "b9977447",
   "metadata": {},
   "outputs": [],
   "source": [
    "from fbprophet import Prophet\n",
    "d={'ds':train['Date'],'y':train['Toronto East/Est']}\n",
    "df_pred=pd.DataFrame(data=d)\n",
    "model_prophet = Prophet(daily_seasonality=False)\n",
    "model_prophet_result = model_prophet.fit(df_pred)"
   ]
  },
  {
   "cell_type": "code",
   "execution_count": 33,
   "id": "a857fb39",
   "metadata": {},
   "outputs": [],
   "source": [
    "future = model_prophet.make_future_dataframe(periods=765)\n",
    "forecast = model_prophet.predict(future)\n",
    "forecast = forecast[(forecast['ds' ] >= '2020-01-01') & (forecast['ds' ] <= '2022-01-31')]"
   ]
  },
  {
   "cell_type": "code",
   "execution_count": 34,
   "id": "4a493302",
   "metadata": {},
   "outputs": [
    {
     "data": {
      "image/png": "[encoded data removed]",
      "text/plain": [
       "<Figure size 1440x360 with 1 Axes>"
      ]
     },
     "metadata": {
      "needs_background": "light"
     },
     "output_type": "display_data"
    }
   ],
   "source": [
    "fig, ax = plt.subplots()\n",
    "ax.plot(forecast['ds'], forecast['yhat'], label='Predicted Prices')\n",
    "ax.plot(test['Date'], test['Toronto East/Est'], label='Original Prices')\n",
    "plt.ylim([0,200])\n",
    "legend = ax.legend(loc='upper center', shadow=True)\n",
    "plt.title('Prophet Model Premium Gasoline Prices Forecast Toronto East/Est')\n",
    "plt.xlabel('Month')\n",
    "plt.ylabel('Price')\n",
    "plt.show()"
   ]
  },
  {
   "cell_type": "markdown",
   "id": "c07725a3",
   "metadata": {},
   "source": [
    "<h4>Mean Absolute Error (MAE) Prophet"
   ]
  },
  {
   "cell_type": "code",
   "execution_count": 35,
   "id": "2bdd5f04",
   "metadata": {},
   "outputs": [
    {
     "name": "stdout",
     "output_type": "stream",
     "text": [
      "Mean Absolute Error Prophet = 17.37\n"
     ]
    }
   ],
   "source": [
    "maeProphet=mean_absolute_error(test['Toronto East/Est'],forecast['yhat'])\n",
    "print('Mean Absolute Error Prophet = {}'.format(round(maeProphet, 2)))"
   ]
  },
  {
   "cell_type": "markdown",
   "id": "1630236e",
   "metadata": {},
   "source": [
    "<h4>Mean squared error (MSE) Prophet"
   ]
  },
  {
   "cell_type": "code",
   "execution_count": 36,
   "id": "4ff51b4b",
   "metadata": {},
   "outputs": [
    {
     "name": "stdout",
     "output_type": "stream",
     "text": [
      "The Mean Squared Error Prophet = 414.55\n"
     ]
    }
   ],
   "source": [
    "mseProphet = mean_squared_error(test['Toronto East/Est'],forecast['yhat'])\n",
    "print('The Mean Squared Error Prophet = {}'.format(round(mseProphet, 2)))"
   ]
  },
  {
   "cell_type": "markdown",
   "id": "38926d10",
   "metadata": {},
   "source": [
    "<h4>Root mean squared error (RMSE) Prophet"
   ]
  },
  {
   "cell_type": "code",
   "execution_count": 37,
   "id": "d93e661c",
   "metadata": {},
   "outputs": [
    {
     "name": "stdout",
     "output_type": "stream",
     "text": [
      "The Root Mean Squared Error Prophet = 20.36\n"
     ]
    }
   ],
   "source": [
    "rmseProphet = sqrt(mseProphet)\n",
    "print('The Root Mean Squared Error Prophet = {}'.format(round(rmseProphet, 2)))"
   ]
  }
 ],
 "metadata": {
  "kernelspec": {
   "display_name": "Python 3 (ipykernel)",
   "language": "python",
   "name": "python3"
  },
  "language_info": {
   "codemirror_mode": {
    "name": "ipython",
    "version": 3
   },
   "file_extension": ".py",
   "mimetype": "text/x-python",
   "name": "python",
   "nbconvert_exporter": "python",
   "pygments_lexer": "ipython3",
   "version": "3.8.8"
  }
 },
 "nbformat": 4,
 "nbformat_minor": 5
}
